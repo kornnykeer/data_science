{
 "cells": [
  {
   "cell_type": "markdown",
   "metadata": {},
   "source": [
    "# **`Data Preparation for Sale Analytics`**"
   ]
  },
  {
   "cell_type": "code",
   "execution_count": 1,
   "metadata": {},
   "outputs": [
    {
     "name": "stdout",
     "output_type": "stream",
     "text": [
      "pandas version : 1.0.3\n",
      "matplotlib version : 3.2.1\n",
      "seaborn version : 0.10.1\n"
     ]
    }
   ],
   "source": [
    "import pandas as pd\n",
    "import matplotlib\n",
    "import matplotlib.pyplot as plt\n",
    "import seaborn as sb\n",
    "sb.set(font='TH Sarabun NEW')\n",
    "\n",
    "%matplotlib inline\n",
    "%config InlineBackend.figure_format='retina'\n",
    "\n",
    "print(f'pandas version : {pd.__version__}')\n",
    "print(f'matplotlib version : {matplotlib.__version__}')\n",
    "print(f'seaborn version : {sb.__version__}')"
   ]
  },
  {
   "cell_type": "markdown",
   "metadata": {},
   "source": [
    "## **`INITIAL VALUE`**"
   ]
  },
  {
   "cell_type": "code",
   "execution_count": 2,
   "metadata": {},
   "outputs": [],
   "source": [
    "input_path = 'input/'\n",
    "output_path = 'output/'\n",
    "graph_path = 'graph/'\n",
    "ds_cols = ['SHOWROOM', 'INV_DATE', 'INV_NO', 'ITEM_CODE', 'ITEM_NAME', 'QTY', 'PRICE', 'CUSTOMER']\n",
    "sr_names = [['ONLINE', 0], ['SR01', 1], ['SR05', 2]]\n",
    "q_names = [['QUARTER 1', 1], ['QUARTER 2', 2], ['QUARTER 3', 3], ['QUARTER 4', 4]]\n",
    "m_names = [['JANUARY', 1], ['FEBRUARY', 2], ['MARCH', 3], ['APRIL', 4], ['MAY', 5], ['JUNE', 6],\n",
    "           ['JULY', 7], ['AUGUST', 8], ['SEPTEMBER', 9], ['OCTOBER', 10], ['NOVEMBER', 11], ['DECEMBER', 12]]\n",
    "d_names = [['MONDAY', 0], ['TUESDAY', 1], ['WEDNESDAY', 2], ['THURSDAY', 3], ['FRIDAY', 4], ['SATURDAY', 5], ['SUNDAY', 6]]"
   ]
  },
  {
   "cell_type": "markdown",
   "metadata": {},
   "source": [
    "## **`LOAD DATA`**"
   ]
  },
  {
   "cell_type": "code",
   "execution_count": 3,
   "metadata": {},
   "outputs": [],
   "source": [
    "# Read Data from file and change column name\n",
    "ds = pd.read_csv(f'{input_path}allsr_2019.csv',\n",
    "                 parse_dates=['INV_DATE'],\n",
    "                 names=ds_cols,\n",
    "                 header=0)"
   ]
  },
  {
   "cell_type": "code",
   "execution_count": 4,
   "metadata": {},
   "outputs": [],
   "source": [
    "ds.loc[ds.SHOWROOM == 'JOY', 'SHOWROOM'] = 'ONLINE'"
   ]
  },
  {
   "cell_type": "code",
   "execution_count": 5,
   "metadata": {},
   "outputs": [
    {
     "data": {
      "text/html": [
       "<div>\n",
       "<style scoped>\n",
       "    .dataframe tbody tr th:only-of-type {\n",
       "        vertical-align: middle;\n",
       "    }\n",
       "\n",
       "    .dataframe tbody tr th {\n",
       "        vertical-align: top;\n",
       "    }\n",
       "\n",
       "    .dataframe thead th {\n",
       "        text-align: right;\n",
       "    }\n",
       "</style>\n",
       "<table border=\"1\" class=\"dataframe\">\n",
       "  <thead>\n",
       "    <tr style=\"text-align: right;\">\n",
       "      <th></th>\n",
       "      <th>SHOWROOM</th>\n",
       "      <th>INV_DATE</th>\n",
       "      <th>INV_NO</th>\n",
       "      <th>ITEM_CODE</th>\n",
       "      <th>ITEM_NAME</th>\n",
       "      <th>QTY</th>\n",
       "      <th>PRICE</th>\n",
       "      <th>CUSTOMER</th>\n",
       "    </tr>\n",
       "  </thead>\n",
       "  <tbody>\n",
       "    <tr>\n",
       "      <th>860</th>\n",
       "      <td>ONLINE</td>\n",
       "      <td>2019-10-12</td>\n",
       "      <td>CS-1256212/053</td>\n",
       "      <td>IG0095-1</td>\n",
       "      <td>Almond Blanched Slice 1 kg. (M160)</td>\n",
       "      <td>1.0</td>\n",
       "      <td>410.0</td>\n",
       "      <td>P14308</td>\n",
       "    </tr>\n",
       "    <tr>\n",
       "      <th>1069</th>\n",
       "      <td>ONLINE</td>\n",
       "      <td>2019-12-27</td>\n",
       "      <td>CS-1256212/150</td>\n",
       "      <td>IG0149</td>\n",
       "      <td>Cacao Barry Cocoa Powder Extrabrute No.3 ,2.5 kg.</td>\n",
       "      <td>1.0</td>\n",
       "      <td>1099.0</td>\n",
       "      <td>P12552</td>\n",
       "    </tr>\n",
       "    <tr>\n",
       "      <th>1059</th>\n",
       "      <td>ONLINE</td>\n",
       "      <td>2019-12-26</td>\n",
       "      <td>CS-1256212/147</td>\n",
       "      <td>IG0028-1P</td>\n",
       "      <td>Cacao Nibs (Avendacom) 750 gr.</td>\n",
       "      <td>3.0</td>\n",
       "      <td>360.0</td>\n",
       "      <td>P7128</td>\n",
       "    </tr>\n",
       "    <tr>\n",
       "      <th>304</th>\n",
       "      <td>ONLINE</td>\n",
       "      <td>2019-10-26</td>\n",
       "      <td>CS-1256210/107</td>\n",
       "      <td>IG0958-P</td>\n",
       "      <td>Activa TG-BP (QS) Transglutaminase (Meat Glue)...</td>\n",
       "      <td>1.0</td>\n",
       "      <td>2200.0</td>\n",
       "      <td>P14029</td>\n",
       "    </tr>\n",
       "    <tr>\n",
       "      <th>145</th>\n",
       "      <td>ONLINE</td>\n",
       "      <td>2019-10-15</td>\n",
       "      <td>CS-1256210/045</td>\n",
       "      <td>CL0947-52</td>\n",
       "      <td>EU Food Color 46P10052 Pump Powder New Silver ...</td>\n",
       "      <td>3.0</td>\n",
       "      <td>380.0</td>\n",
       "      <td>C2539</td>\n",
       "    </tr>\n",
       "    <tr>\n",
       "      <th>3760</th>\n",
       "      <td>SR01</td>\n",
       "      <td>2019-05-03</td>\n",
       "      <td>DS256203/00046</td>\n",
       "      <td>IG0569.1</td>\n",
       "      <td>500g. FEUILLETINE/Royaltine M086</td>\n",
       "      <td>4.0</td>\n",
       "      <td>245.0</td>\n",
       "      <td>H0054</td>\n",
       "    </tr>\n",
       "    <tr>\n",
       "      <th>4061</th>\n",
       "      <td>SR01</td>\n",
       "      <td>2019-03-14</td>\n",
       "      <td>CS-1256203/067</td>\n",
       "      <td>PT0037-2301</td>\n",
       "      <td>Kovea KT-2301 Micro Torch // หัวปืนแก๊ส</td>\n",
       "      <td>1.0</td>\n",
       "      <td>1590.0</td>\n",
       "      <td>P12799</td>\n",
       "    </tr>\n",
       "    <tr>\n",
       "      <th>2802</th>\n",
       "      <td>SR01</td>\n",
       "      <td>2019-10-02</td>\n",
       "      <td>CS256202/00031</td>\n",
       "      <td>4013528091401</td>\n",
       "      <td>Thermo Hauser 83000.09140 Flat Pastry Brush 45...</td>\n",
       "      <td>1.0</td>\n",
       "      <td>260.0</td>\n",
       "      <td>C1404</td>\n",
       "    </tr>\n",
       "    <tr>\n",
       "      <th>8724</th>\n",
       "      <td>SR01</td>\n",
       "      <td>2019-02-08</td>\n",
       "      <td>CS-0256208/017</td>\n",
       "      <td>2019800130907</td>\n",
       "      <td>Korea 1446-1 (P) Cake Decorating Comb (Plastic...</td>\n",
       "      <td>1.0</td>\n",
       "      <td>59.0</td>\n",
       "      <td>WL00127</td>\n",
       "    </tr>\n",
       "    <tr>\n",
       "      <th>3147</th>\n",
       "      <td>SR01</td>\n",
       "      <td>2019-02-18</td>\n",
       "      <td>CS-1256202/121</td>\n",
       "      <td>IG0123</td>\n",
       "      <td>Elle&amp;Vire Whipping Cream 35% ,1 Litre (M191)</td>\n",
       "      <td>4.0</td>\n",
       "      <td>220.0</td>\n",
       "      <td>P12526</td>\n",
       "    </tr>\n",
       "    <tr>\n",
       "      <th>24542</th>\n",
       "      <td>SR05</td>\n",
       "      <td>2019-03-06</td>\n",
       "      <td>DS256206/00181</td>\n",
       "      <td>PT1046</td>\n",
       "      <td>Magix Chef 10.5\" Piping Bag Clear (S) 100/Roll</td>\n",
       "      <td>1.0</td>\n",
       "      <td>105.0</td>\n",
       "      <td>C0161</td>\n",
       "    </tr>\n",
       "    <tr>\n",
       "      <th>15699</th>\n",
       "      <td>SR05</td>\n",
       "      <td>2019-04-02</td>\n",
       "      <td>DS256202/00068</td>\n",
       "      <td>PT2691</td>\n",
       "      <td>Lacor N2O 8 g. Cream Charger 10 pcs/pack</td>\n",
       "      <td>1.0</td>\n",
       "      <td>98.0</td>\n",
       "      <td>C0161</td>\n",
       "    </tr>\n",
       "    <tr>\n",
       "      <th>31607</th>\n",
       "      <td>SR05</td>\n",
       "      <td>2019-01-10</td>\n",
       "      <td>DS-0256210/009</td>\n",
       "      <td>MA2383-SP</td>\n",
       "      <td>KitchenAid 5KSM175PSESP Artisan Mixer 4.8 Lt S...</td>\n",
       "      <td>1.0</td>\n",
       "      <td>18900.0</td>\n",
       "      <td>P10426</td>\n",
       "    </tr>\n",
       "    <tr>\n",
       "      <th>32934</th>\n",
       "      <td>SR05</td>\n",
       "      <td>2019-10-25</td>\n",
       "      <td>DS256210/00158</td>\n",
       "      <td>MA2569-ER</td>\n",
       "      <td>KitchenAid 5KMT223GER Automatic/Pop Up Toaster...</td>\n",
       "      <td>1.0</td>\n",
       "      <td>3505.0</td>\n",
       "      <td>C0161</td>\n",
       "    </tr>\n",
       "    <tr>\n",
       "      <th>20981</th>\n",
       "      <td>SR05</td>\n",
       "      <td>2019-04-17</td>\n",
       "      <td>DS256204/00122</td>\n",
       "      <td>PK0616</td>\n",
       "      <td>CH44 Jelly/Mousse Cups+Lid 270 ml.ทรงสี่เหลี่ย...</td>\n",
       "      <td>50.0</td>\n",
       "      <td>8.0</td>\n",
       "      <td>P10200</td>\n",
       "    </tr>\n",
       "  </tbody>\n",
       "</table>\n",
       "</div>"
      ],
      "text/plain": [
       "      SHOWROOM   INV_DATE          INV_NO      ITEM_CODE  \\\n",
       "860     ONLINE 2019-10-12  CS-1256212/053       IG0095-1   \n",
       "1069    ONLINE 2019-12-27  CS-1256212/150         IG0149   \n",
       "1059    ONLINE 2019-12-26  CS-1256212/147      IG0028-1P   \n",
       "304     ONLINE 2019-10-26  CS-1256210/107       IG0958-P   \n",
       "145     ONLINE 2019-10-15  CS-1256210/045      CL0947-52   \n",
       "3760      SR01 2019-05-03  DS256203/00046       IG0569.1   \n",
       "4061      SR01 2019-03-14  CS-1256203/067    PT0037-2301   \n",
       "2802      SR01 2019-10-02  CS256202/00031  4013528091401   \n",
       "8724      SR01 2019-02-08  CS-0256208/017  2019800130907   \n",
       "3147      SR01 2019-02-18  CS-1256202/121         IG0123   \n",
       "24542     SR05 2019-03-06  DS256206/00181         PT1046   \n",
       "15699     SR05 2019-04-02  DS256202/00068         PT2691   \n",
       "31607     SR05 2019-01-10  DS-0256210/009      MA2383-SP   \n",
       "32934     SR05 2019-10-25  DS256210/00158      MA2569-ER   \n",
       "20981     SR05 2019-04-17  DS256204/00122         PK0616   \n",
       "\n",
       "                                               ITEM_NAME   QTY    PRICE  \\\n",
       "860                   Almond Blanched Slice 1 kg. (M160)   1.0    410.0   \n",
       "1069   Cacao Barry Cocoa Powder Extrabrute No.3 ,2.5 kg.   1.0   1099.0   \n",
       "1059                      Cacao Nibs (Avendacom) 750 gr.   3.0    360.0   \n",
       "304    Activa TG-BP (QS) Transglutaminase (Meat Glue)...   1.0   2200.0   \n",
       "145    EU Food Color 46P10052 Pump Powder New Silver ...   3.0    380.0   \n",
       "3760                    500g. FEUILLETINE/Royaltine M086   4.0    245.0   \n",
       "4061             Kovea KT-2301 Micro Torch // หัวปืนแก๊ส   1.0   1590.0   \n",
       "2802   Thermo Hauser 83000.09140 Flat Pastry Brush 45...   1.0    260.0   \n",
       "8724   Korea 1446-1 (P) Cake Decorating Comb (Plastic...   1.0     59.0   \n",
       "3147        Elle&Vire Whipping Cream 35% ,1 Litre (M191)   4.0    220.0   \n",
       "24542     Magix Chef 10.5\" Piping Bag Clear (S) 100/Roll   1.0    105.0   \n",
       "15699           Lacor N2O 8 g. Cream Charger 10 pcs/pack   1.0     98.0   \n",
       "31607  KitchenAid 5KSM175PSESP Artisan Mixer 4.8 Lt S...   1.0  18900.0   \n",
       "32934  KitchenAid 5KMT223GER Automatic/Pop Up Toaster...   1.0   3505.0   \n",
       "20981  CH44 Jelly/Mousse Cups+Lid 270 ml.ทรงสี่เหลี่ย...  50.0      8.0   \n",
       "\n",
       "      CUSTOMER  \n",
       "860     P14308  \n",
       "1069    P12552  \n",
       "1059     P7128  \n",
       "304     P14029  \n",
       "145      C2539  \n",
       "3760     H0054  \n",
       "4061    P12799  \n",
       "2802     C1404  \n",
       "8724   WL00127  \n",
       "3147    P12526  \n",
       "24542    C0161  \n",
       "15699    C0161  \n",
       "31607   P10426  \n",
       "32934    C0161  \n",
       "20981   P10200  "
      ]
     },
     "execution_count": 5,
     "metadata": {},
     "output_type": "execute_result"
    }
   ],
   "source": [
    "# Sample for each channel\n",
    "pd.concat([ds[ds.SHOWROOM == sr[0]].sample(5) for sr in sr_names])"
   ]
  },
  {
   "cell_type": "markdown",
   "metadata": {},
   "source": [
    "## **`ADD SHOWROOM_CODE`**"
   ]
  },
  {
   "cell_type": "code",
   "execution_count": 6,
   "metadata": {},
   "outputs": [
    {
     "data": {
      "text/html": [
       "<div>\n",
       "<style scoped>\n",
       "    .dataframe tbody tr th:only-of-type {\n",
       "        vertical-align: middle;\n",
       "    }\n",
       "\n",
       "    .dataframe tbody tr th {\n",
       "        vertical-align: top;\n",
       "    }\n",
       "\n",
       "    .dataframe thead th {\n",
       "        text-align: right;\n",
       "    }\n",
       "</style>\n",
       "<table border=\"1\" class=\"dataframe\">\n",
       "  <thead>\n",
       "    <tr style=\"text-align: right;\">\n",
       "      <th></th>\n",
       "      <th>SHOWROOM</th>\n",
       "      <th>INV_DATE</th>\n",
       "      <th>INV_NO</th>\n",
       "      <th>ITEM_CODE</th>\n",
       "      <th>ITEM_NAME</th>\n",
       "      <th>QTY</th>\n",
       "      <th>PRICE</th>\n",
       "      <th>CUSTOMER</th>\n",
       "      <th>SR_CODE</th>\n",
       "    </tr>\n",
       "  </thead>\n",
       "  <tbody>\n",
       "    <tr>\n",
       "      <th>0</th>\n",
       "      <td>ONLINE</td>\n",
       "      <td>2019-09-23</td>\n",
       "      <td>CS-1256209/057</td>\n",
       "      <td>IG0681</td>\n",
       "      <td>Callebaut Dark Chocolate Couverture 57.7% , 2.5kg</td>\n",
       "      <td>1.0</td>\n",
       "      <td>850.0</td>\n",
       "      <td>P13820</td>\n",
       "      <td>0</td>\n",
       "    </tr>\n",
       "    <tr>\n",
       "      <th>1</th>\n",
       "      <td>ONLINE</td>\n",
       "      <td>2019-09-23</td>\n",
       "      <td>CS-1256209/057</td>\n",
       "      <td>IG0682</td>\n",
       "      <td>Callebaut White Chocolate Couverture 28% ,2.5 kg</td>\n",
       "      <td>1.0</td>\n",
       "      <td>950.0</td>\n",
       "      <td>P13820</td>\n",
       "      <td>0</td>\n",
       "    </tr>\n",
       "    <tr>\n",
       "      <th>2</th>\n",
       "      <td>ONLINE</td>\n",
       "      <td>2019-09-23</td>\n",
       "      <td>CS-1256209/057</td>\n",
       "      <td>PK0645</td>\n",
       "      <td>SYN Triangle Paper Gold Card 7x11 cm. (P/100) ...</td>\n",
       "      <td>1.0</td>\n",
       "      <td>90.0</td>\n",
       "      <td>P13820</td>\n",
       "      <td>0</td>\n",
       "    </tr>\n",
       "    <tr>\n",
       "      <th>3</th>\n",
       "      <td>ONLINE</td>\n",
       "      <td>2019-09-23</td>\n",
       "      <td>CS-1256209/057</td>\n",
       "      <td>PK0405-8</td>\n",
       "      <td>SNY Round Paper Card 8 cm. P/100</td>\n",
       "      <td>1.0</td>\n",
       "      <td>90.0</td>\n",
       "      <td>P13820</td>\n",
       "      <td>0</td>\n",
       "    </tr>\n",
       "    <tr>\n",
       "      <th>4</th>\n",
       "      <td>ONLINE</td>\n",
       "      <td>2019-09-23</td>\n",
       "      <td>CS-1256209/058</td>\n",
       "      <td>PK0115</td>\n",
       "      <td>CH32 Jelly/Mousse Cups Cap:130ml. dia.98x47x45H</td>\n",
       "      <td>200.0</td>\n",
       "      <td>3.8</td>\n",
       "      <td>R0408</td>\n",
       "      <td>0</td>\n",
       "    </tr>\n",
       "  </tbody>\n",
       "</table>\n",
       "</div>"
      ],
      "text/plain": [
       "  SHOWROOM   INV_DATE          INV_NO ITEM_CODE  \\\n",
       "0   ONLINE 2019-09-23  CS-1256209/057    IG0681   \n",
       "1   ONLINE 2019-09-23  CS-1256209/057    IG0682   \n",
       "2   ONLINE 2019-09-23  CS-1256209/057    PK0645   \n",
       "3   ONLINE 2019-09-23  CS-1256209/057  PK0405-8   \n",
       "4   ONLINE 2019-09-23  CS-1256209/058    PK0115   \n",
       "\n",
       "                                           ITEM_NAME    QTY  PRICE CUSTOMER  \\\n",
       "0  Callebaut Dark Chocolate Couverture 57.7% , 2.5kg    1.0  850.0   P13820   \n",
       "1   Callebaut White Chocolate Couverture 28% ,2.5 kg    1.0  950.0   P13820   \n",
       "2  SYN Triangle Paper Gold Card 7x11 cm. (P/100) ...    1.0   90.0   P13820   \n",
       "3                   SNY Round Paper Card 8 cm. P/100    1.0   90.0   P13820   \n",
       "4    CH32 Jelly/Mousse Cups Cap:130ml. dia.98x47x45H  200.0    3.8    R0408   \n",
       "\n",
       "  SR_CODE  \n",
       "0       0  \n",
       "1       0  \n",
       "2       0  \n",
       "3       0  \n",
       "4       0  "
      ]
     },
     "execution_count": 6,
     "metadata": {},
     "output_type": "execute_result"
    }
   ],
   "source": [
    "ds['SR_CODE'] = ds.SHOWROOM.map({'ONLINE': 0, 'SR01': 1, 'SR05': 2}).astype('category')\n",
    "ds.head()"
   ]
  },
  {
   "cell_type": "markdown",
   "metadata": {},
   "source": [
    "## **`ADD INVOICE_TYPE`**"
   ]
  },
  {
   "cell_type": "code",
   "execution_count": 7,
   "metadata": {},
   "outputs": [
    {
     "name": "stdout",
     "output_type": "stream",
     "text": [
      "Total Invoice Type : 5\n"
     ]
    },
    {
     "data": {
      "text/plain": [
       "array(['CS', 'KW', 'DS', 'PO', 'EV'], dtype=object)"
      ]
     },
     "execution_count": 7,
     "metadata": {},
     "output_type": "execute_result"
    }
   ],
   "source": [
    "ds['INV_TYPE'] = ds.INV_NO.str[0:2].map(lambda x : str.upper(x))\n",
    "print(f'Total Invoice Type : {len(ds.INV_TYPE.unique())}')\n",
    "ds.INV_TYPE.unique()"
   ]
  },
  {
   "cell_type": "markdown",
   "metadata": {},
   "source": [
    "## **`ADD SELL_TYPE`**\n",
    "#### Update for spare, rental, service, labour, advertising, guarantee"
   ]
  },
  {
   "cell_type": "code",
   "execution_count": 8,
   "metadata": {},
   "outputs": [],
   "source": [
    "ds['SELL_TYPE'] = 'PRODUCT'\n",
    "ds.loc[ds.ITEM_NAME.str[0:5] == 'Spare', 'SELL_TYPE'] = 'SPARE'\n",
    "ds.loc[ds.ITEM_NAME.str.contains('ค่าเช่า'), 'SELL_TYPE'] = 'RENTAL'\n",
    "ds.loc[ds.ITEM_CODE.str[0:3] == 'SER', 'SELL_TYPE'] = 'SERVICE'\n",
    "ds.loc[ds.ITEM_CODE.str.contains('REPAIR'), 'SELL_TYPE'] = 'SERVICE'\n",
    "ds.loc[ds.ITEM_NAME.str.contains('LABOR', 'LABOUR'), 'SELL_TYPE'] = 'LABOUR'\n",
    "ds.loc[ds.ITEM_NAME.str.contains('สื่อโฆษณา'), 'SELL_TYPE'] = 'ADVERTISING'\n",
    "ds.loc[ds.ITEM_CODE.str.contains('GUARANTEE'), 'SELL_TYPE'] = 'GUARANTEE'"
   ]
  },
  {
   "cell_type": "markdown",
   "metadata": {},
   "source": [
    "## **`CLEAN ITEM_CODE`**\n",
    "#### There are some record wrong input text"
   ]
  },
  {
   "cell_type": "code",
   "execution_count": 9,
   "metadata": {},
   "outputs": [],
   "source": [
    "ds['ITEM_CODE'] = ds.ITEM_CODE.map(lambda x : str.replace(x, '*', ''))\n",
    "ds['ITEM_CODE'] = ds.ITEM_CODE.map(lambda x : str.replace(x, '.', ''))\n",
    "\n",
    "# Change some wrong language character\n",
    "ds.loc[ds.CUSTOMER == 'ี/P', 'CUSTOMER'] = 'U/P'\n",
    "ds.loc[ds.CUSTOMER == 'ฝย', 'CUSTOMER'] = 'U/P'\n",
    "ds.loc[ds.ITEM_CODE == '(01)08029859061156(10)00', 'ITEM_CODE'] = '8029859061156'"
   ]
  },
  {
   "cell_type": "markdown",
   "metadata": {},
   "source": [
    "## **`Add ITEM_TYPE, CUSTOMER_TYPE`**"
   ]
  },
  {
   "cell_type": "code",
   "execution_count": 10,
   "metadata": {},
   "outputs": [
    {
     "data": {
      "text/html": [
       "<div>\n",
       "<style scoped>\n",
       "    .dataframe tbody tr th:only-of-type {\n",
       "        vertical-align: middle;\n",
       "    }\n",
       "\n",
       "    .dataframe tbody tr th {\n",
       "        vertical-align: top;\n",
       "    }\n",
       "\n",
       "    .dataframe thead th {\n",
       "        text-align: right;\n",
       "    }\n",
       "</style>\n",
       "<table border=\"1\" class=\"dataframe\">\n",
       "  <thead>\n",
       "    <tr style=\"text-align: right;\">\n",
       "      <th></th>\n",
       "      <th>SHOWROOM</th>\n",
       "      <th>INV_DATE</th>\n",
       "      <th>INV_NO</th>\n",
       "      <th>ITEM_CODE</th>\n",
       "      <th>ITEM_NAME</th>\n",
       "      <th>QTY</th>\n",
       "      <th>PRICE</th>\n",
       "      <th>CUSTOMER</th>\n",
       "      <th>SR_CODE</th>\n",
       "      <th>INV_TYPE</th>\n",
       "      <th>SELL_TYPE</th>\n",
       "      <th>ITEM_TYPE</th>\n",
       "      <th>CUSTOMER_TYPE</th>\n",
       "    </tr>\n",
       "  </thead>\n",
       "  <tbody>\n",
       "    <tr>\n",
       "      <th>23603</th>\n",
       "      <td>SR05</td>\n",
       "      <td>2019-05-20</td>\n",
       "      <td>DS256205/00226</td>\n",
       "      <td>PT0932</td>\n",
       "      <td>Actiff Cleaning AEROSOL for Oven /MF 05937</td>\n",
       "      <td>1.0</td>\n",
       "      <td>315.0</td>\n",
       "      <td>C0161</td>\n",
       "      <td>2</td>\n",
       "      <td>DS</td>\n",
       "      <td>PRODUCT</td>\n",
       "      <td>PT</td>\n",
       "      <td>C</td>\n",
       "    </tr>\n",
       "    <tr>\n",
       "      <th>30201</th>\n",
       "      <td>SR05</td>\n",
       "      <td>2019-02-09</td>\n",
       "      <td>CS-2256209/003</td>\n",
       "      <td>IG0087-5KG</td>\n",
       "      <td>Pastry Powder Hot Process 5 kg</td>\n",
       "      <td>6.0</td>\n",
       "      <td>2400.0</td>\n",
       "      <td>P7159</td>\n",
       "      <td>2</td>\n",
       "      <td>CS</td>\n",
       "      <td>PRODUCT</td>\n",
       "      <td>IG</td>\n",
       "      <td>P</td>\n",
       "    </tr>\n",
       "    <tr>\n",
       "      <th>631</th>\n",
       "      <td>ONLINE</td>\n",
       "      <td>2019-11-23</td>\n",
       "      <td>CS-1256211/096</td>\n",
       "      <td>IG0149-1</td>\n",
       "      <td>1KG.COCOA POWDER No.3 Exbrute CACAO BARRY (M219)</td>\n",
       "      <td>1.0</td>\n",
       "      <td>550.0</td>\n",
       "      <td>P13394</td>\n",
       "      <td>0</td>\n",
       "      <td>CS</td>\n",
       "      <td>PRODUCT</td>\n",
       "      <td>IG</td>\n",
       "      <td>P</td>\n",
       "    </tr>\n",
       "    <tr>\n",
       "      <th>34686</th>\n",
       "      <td>SR05</td>\n",
       "      <td>2019-11-27</td>\n",
       "      <td>KW256211/00227</td>\n",
       "      <td>2019800390271</td>\n",
       "      <td>PPLY PC1260 Pyramid Chocolate Molds NR.21</td>\n",
       "      <td>1.0</td>\n",
       "      <td>595.0</td>\n",
       "      <td>A0011</td>\n",
       "      <td>2</td>\n",
       "      <td>KW</td>\n",
       "      <td>PRODUCT</td>\n",
       "      <td>20</td>\n",
       "      <td>A</td>\n",
       "    </tr>\n",
       "    <tr>\n",
       "      <th>33944</th>\n",
       "      <td>SR05</td>\n",
       "      <td>2019-12-11</td>\n",
       "      <td>KW256211/00104</td>\n",
       "      <td>CW0060-G6A</td>\n",
       "      <td>Polycarbonate Containers GN 1/6 x 100 mm.Dim 1...</td>\n",
       "      <td>7.0</td>\n",
       "      <td>170.0</td>\n",
       "      <td>R0298</td>\n",
       "      <td>2</td>\n",
       "      <td>KW</td>\n",
       "      <td>PRODUCT</td>\n",
       "      <td>CW</td>\n",
       "      <td>R</td>\n",
       "    </tr>\n",
       "  </tbody>\n",
       "</table>\n",
       "</div>"
      ],
      "text/plain": [
       "      SHOWROOM   INV_DATE          INV_NO      ITEM_CODE  \\\n",
       "23603     SR05 2019-05-20  DS256205/00226         PT0932   \n",
       "30201     SR05 2019-02-09  CS-2256209/003     IG0087-5KG   \n",
       "631     ONLINE 2019-11-23  CS-1256211/096       IG0149-1   \n",
       "34686     SR05 2019-11-27  KW256211/00227  2019800390271   \n",
       "33944     SR05 2019-12-11  KW256211/00104     CW0060-G6A   \n",
       "\n",
       "                                               ITEM_NAME  QTY   PRICE  \\\n",
       "23603         Actiff Cleaning AEROSOL for Oven /MF 05937  1.0   315.0   \n",
       "30201                     Pastry Powder Hot Process 5 kg  6.0  2400.0   \n",
       "631     1KG.COCOA POWDER No.3 Exbrute CACAO BARRY (M219)  1.0   550.0   \n",
       "34686          PPLY PC1260 Pyramid Chocolate Molds NR.21  1.0   595.0   \n",
       "33944  Polycarbonate Containers GN 1/6 x 100 mm.Dim 1...  7.0   170.0   \n",
       "\n",
       "      CUSTOMER SR_CODE INV_TYPE SELL_TYPE ITEM_TYPE CUSTOMER_TYPE  \n",
       "23603    C0161       2       DS   PRODUCT        PT             C  \n",
       "30201    P7159       2       CS   PRODUCT        IG             P  \n",
       "631     P13394       0       CS   PRODUCT        IG             P  \n",
       "34686    A0011       2       KW   PRODUCT        20             A  \n",
       "33944    R0298       2       KW   PRODUCT        CW             R  "
      ]
     },
     "execution_count": 10,
     "metadata": {},
     "output_type": "execute_result"
    }
   ],
   "source": [
    "ds['ITEM_TYPE'] = ds.ITEM_CODE.str[0:2].map(lambda x : str.upper(x))\n",
    "ds['CUSTOMER_TYPE'] = ds.CUSTOMER.str[0:1].map(lambda x : str.upper(x))\n",
    "ds.sample(5)"
   ]
  },
  {
   "cell_type": "code",
   "execution_count": 11,
   "metadata": {},
   "outputs": [
    {
     "name": "stdout",
     "output_type": "stream",
     "text": [
      "Total Product Type : 75\n",
      "Totel Customer TYpe : 15\n"
     ]
    }
   ],
   "source": [
    "print(f'Total Product Type : {len(ds.ITEM_TYPE.unique())}')\n",
    "print(f'Totel Customer TYpe : {len(ds.CUSTOMER_TYPE.unique())}')"
   ]
  },
  {
   "cell_type": "markdown",
   "metadata": {},
   "source": [
    "## **`Show Customer Code`**"
   ]
  },
  {
   "cell_type": "code",
   "execution_count": 57,
   "metadata": {},
   "outputs": [
    {
     "data": {
      "text/plain": [
       "(75,)"
      ]
     },
     "execution_count": 57,
     "metadata": {},
     "output_type": "execute_result"
    }
   ],
   "source": [
    "ds.ITEM_TYPE.unique().shape"
   ]
  },
  {
   "cell_type": "code",
   "execution_count": 12,
   "metadata": {},
   "outputs": [
    {
     "data": {
      "text/plain": [
       "array(['IG', 'PK', '20', 'PT', 'CL', 'BW', 'CD', 'AS', 'CW', '88', 'MA',\n",
       "       'CT', 'RE', 'PR', 'SP', '54', '33', '02', '01', '69', '30', '49',\n",
       "       '31', '34', '93', '84', '35', '80', '68', '40', '32', 'GA', 'SE',\n",
       "       '45', '09', '87', '36', '07', 'VJ', '86', '05', 'GU', '94', '76',\n",
       "       '03', '47', '10', '98', '50', '78', 'MC', '00', '18', '89', '42',\n",
       "       'LA', 'ED', 'PA', '25', 'ST', 'CP', 'W1', '5K', 'VO', '37', '48',\n",
       "       'KP', 'LB', 'RT', '74', 'X0', 'CO', '79', '65', '85'], dtype=object)"
      ]
     },
     "execution_count": 12,
     "metadata": {},
     "output_type": "execute_result"
    }
   ],
   "source": [
    "ds.ITEM_TYPE.unique()"
   ]
  },
  {
   "cell_type": "code",
   "execution_count": 69,
   "metadata": {},
   "outputs": [
    {
     "data": {
      "text/plain": [
       "(30,)"
      ]
     },
     "execution_count": 69,
     "metadata": {},
     "output_type": "execute_result"
    }
   ],
   "source": [
    "ds[ds.ITEM_TYPE.str.contains(r'^[A-Z]')].ITEM_TYPE.unique().shape"
   ]
  },
  {
   "cell_type": "code",
   "execution_count": 70,
   "metadata": {},
   "outputs": [
    {
     "data": {
      "text/plain": [
       "array(['IG', 'PK', 'PT', 'CL', 'BW', 'CD', 'AS', 'CW', 'MA', 'CT', 'RE',\n",
       "       'PR', 'SP', 'GA', 'SE', 'VJ', 'GU', 'MC', 'LA', 'ED', 'PA', 'ST',\n",
       "       'CP', 'W1', 'VO', 'KP', 'LB', 'RT', 'X0', 'CO'], dtype=object)"
      ]
     },
     "execution_count": 70,
     "metadata": {},
     "output_type": "execute_result"
    }
   ],
   "source": [
    "ds[ds.ITEM_TYPE.str.contains(r'^[A-Z]')].ITEM_TYPE.unique()"
   ]
  },
  {
   "cell_type": "code",
   "execution_count": 67,
   "metadata": {},
   "outputs": [
    {
     "data": {
      "text/plain": [
       "(45,)"
      ]
     },
     "execution_count": 67,
     "metadata": {},
     "output_type": "execute_result"
    }
   ],
   "source": [
    "ds[ds.ITEM_TYPE.str.contains(r'^[0-9]')].ITEM_TYPE.unique().shape"
   ]
  },
  {
   "cell_type": "code",
   "execution_count": 68,
   "metadata": {},
   "outputs": [
    {
     "data": {
      "text/plain": [
       "array(['20', '88', '54', '33', '02', '01', '69', '30', '49', '31', '34',\n",
       "       '93', '84', '35', '80', '68', '40', '32', '45', '09', '87', '36',\n",
       "       '07', '86', '05', '94', '76', '03', '47', '10', '98', '50', '78',\n",
       "       '00', '18', '89', '42', '25', '5K', '37', '48', '74', '79', '65',\n",
       "       '85'], dtype=object)"
      ]
     },
     "execution_count": 68,
     "metadata": {},
     "output_type": "execute_result"
    }
   ],
   "source": [
    "ds[ds.ITEM_TYPE.str.contains(r'^[0-9]')].ITEM_TYPE.unique()"
   ]
  },
  {
   "cell_type": "code",
   "execution_count": 47,
   "metadata": {},
   "outputs": [
    {
     "data": {
      "text/plain": [
       "array(['P', 'R', 'W', 'C', 'A', 'L', 'H', 'D', 'F', 'S', 'N', 'U', '1',\n",
       "       'G', '0'], dtype=object)"
      ]
     },
     "execution_count": 47,
     "metadata": {},
     "output_type": "execute_result"
    }
   ],
   "source": [
    "ds.CUSTOMER_TYPE.unique()"
   ]
  },
  {
   "cell_type": "markdown",
   "metadata": {},
   "source": [
    "## **`Add INV_QUARTER, INV_MONTH, INV_WEEK_DAY, INV_MONTH_DAY)`**"
   ]
  },
  {
   "cell_type": "code",
   "execution_count": 14,
   "metadata": {},
   "outputs": [
    {
     "data": {
      "text/html": [
       "<div>\n",
       "<style scoped>\n",
       "    .dataframe tbody tr th:only-of-type {\n",
       "        vertical-align: middle;\n",
       "    }\n",
       "\n",
       "    .dataframe tbody tr th {\n",
       "        vertical-align: top;\n",
       "    }\n",
       "\n",
       "    .dataframe thead th {\n",
       "        text-align: right;\n",
       "    }\n",
       "</style>\n",
       "<table border=\"1\" class=\"dataframe\">\n",
       "  <thead>\n",
       "    <tr style=\"text-align: right;\">\n",
       "      <th></th>\n",
       "      <th>SHOWROOM</th>\n",
       "      <th>INV_DATE</th>\n",
       "      <th>INV_NO</th>\n",
       "      <th>ITEM_CODE</th>\n",
       "      <th>ITEM_NAME</th>\n",
       "      <th>QTY</th>\n",
       "      <th>PRICE</th>\n",
       "      <th>CUSTOMER</th>\n",
       "      <th>SR_CODE</th>\n",
       "      <th>INV_TYPE</th>\n",
       "      <th>...</th>\n",
       "      <th>M12</th>\n",
       "      <th>INV_WEEK_DAY</th>\n",
       "      <th>WD0</th>\n",
       "      <th>WD1</th>\n",
       "      <th>WD2</th>\n",
       "      <th>WD3</th>\n",
       "      <th>WD4</th>\n",
       "      <th>WD5</th>\n",
       "      <th>WD6</th>\n",
       "      <th>INV_MONTH_DAY</th>\n",
       "    </tr>\n",
       "  </thead>\n",
       "  <tbody>\n",
       "    <tr>\n",
       "      <th>8893</th>\n",
       "      <td>SR01</td>\n",
       "      <td>2019-09-08</td>\n",
       "      <td>CS-2256208/021</td>\n",
       "      <td>PT0234</td>\n",
       "      <td>CDN IN1022 Infrared Gun Thermometer (B353)</td>\n",
       "      <td>1.0</td>\n",
       "      <td>2500.0</td>\n",
       "      <td>A0005</td>\n",
       "      <td>1</td>\n",
       "      <td>CS</td>\n",
       "      <td>...</td>\n",
       "      <td>0</td>\n",
       "      <td>6</td>\n",
       "      <td>0</td>\n",
       "      <td>0</td>\n",
       "      <td>0</td>\n",
       "      <td>0</td>\n",
       "      <td>0</td>\n",
       "      <td>0</td>\n",
       "      <td>6</td>\n",
       "      <td>8</td>\n",
       "    </tr>\n",
       "    <tr>\n",
       "      <th>22012</th>\n",
       "      <td>SR05</td>\n",
       "      <td>2019-02-05</td>\n",
       "      <td>DS256205/00036</td>\n",
       "      <td>PT2388</td>\n",
       "      <td>Inno Chef INC447 Digital Kitchen Scale 15 kg/1g.</td>\n",
       "      <td>1.0</td>\n",
       "      <td>1118.0</td>\n",
       "      <td>C0161</td>\n",
       "      <td>2</td>\n",
       "      <td>DS</td>\n",
       "      <td>...</td>\n",
       "      <td>0</td>\n",
       "      <td>1</td>\n",
       "      <td>0</td>\n",
       "      <td>1</td>\n",
       "      <td>0</td>\n",
       "      <td>0</td>\n",
       "      <td>0</td>\n",
       "      <td>0</td>\n",
       "      <td>0</td>\n",
       "      <td>5</td>\n",
       "    </tr>\n",
       "    <tr>\n",
       "      <th>9885</th>\n",
       "      <td>SR01</td>\n",
       "      <td>2019-12-09</td>\n",
       "      <td>CS-2256209/050</td>\n",
       "      <td>2019800290755</td>\n",
       "      <td>White Powder Color 100 g.  (Titanium Dioxide)</td>\n",
       "      <td>2.0</td>\n",
       "      <td>400.0</td>\n",
       "      <td>C1317</td>\n",
       "      <td>1</td>\n",
       "      <td>CS</td>\n",
       "      <td>...</td>\n",
       "      <td>12</td>\n",
       "      <td>0</td>\n",
       "      <td>0</td>\n",
       "      <td>0</td>\n",
       "      <td>0</td>\n",
       "      <td>0</td>\n",
       "      <td>0</td>\n",
       "      <td>0</td>\n",
       "      <td>0</td>\n",
       "      <td>9</td>\n",
       "    </tr>\n",
       "    <tr>\n",
       "      <th>22033</th>\n",
       "      <td>SR05</td>\n",
       "      <td>2019-02-05</td>\n",
       "      <td>DS256205/00041</td>\n",
       "      <td>CW0328-12</td>\n",
       "      <td>Squeezing Bottle 12 oz (PT1527-12)</td>\n",
       "      <td>2.0</td>\n",
       "      <td>38.0</td>\n",
       "      <td>C0161</td>\n",
       "      <td>2</td>\n",
       "      <td>DS</td>\n",
       "      <td>...</td>\n",
       "      <td>0</td>\n",
       "      <td>1</td>\n",
       "      <td>0</td>\n",
       "      <td>1</td>\n",
       "      <td>0</td>\n",
       "      <td>0</td>\n",
       "      <td>0</td>\n",
       "      <td>0</td>\n",
       "      <td>0</td>\n",
       "      <td>5</td>\n",
       "    </tr>\n",
       "    <tr>\n",
       "      <th>16141</th>\n",
       "      <td>SR05</td>\n",
       "      <td>2019-08-02</td>\n",
       "      <td>DS256202/00146</td>\n",
       "      <td>MA2259-ER</td>\n",
       "      <td>KitchenAid 5KPM5EER Stand Mixer 5 Qt ,4.8 L He...</td>\n",
       "      <td>3.0</td>\n",
       "      <td>13949.0</td>\n",
       "      <td>C0161</td>\n",
       "      <td>2</td>\n",
       "      <td>DS</td>\n",
       "      <td>...</td>\n",
       "      <td>0</td>\n",
       "      <td>4</td>\n",
       "      <td>0</td>\n",
       "      <td>0</td>\n",
       "      <td>0</td>\n",
       "      <td>0</td>\n",
       "      <td>4</td>\n",
       "      <td>0</td>\n",
       "      <td>0</td>\n",
       "      <td>2</td>\n",
       "    </tr>\n",
       "  </tbody>\n",
       "</table>\n",
       "<p>5 rows × 40 columns</p>\n",
       "</div>"
      ],
      "text/plain": [
       "      SHOWROOM   INV_DATE          INV_NO      ITEM_CODE  \\\n",
       "8893      SR01 2019-09-08  CS-2256208/021         PT0234   \n",
       "22012     SR05 2019-02-05  DS256205/00036         PT2388   \n",
       "9885      SR01 2019-12-09  CS-2256209/050  2019800290755   \n",
       "22033     SR05 2019-02-05  DS256205/00041      CW0328-12   \n",
       "16141     SR05 2019-08-02  DS256202/00146      MA2259-ER   \n",
       "\n",
       "                                               ITEM_NAME  QTY    PRICE  \\\n",
       "8893          CDN IN1022 Infrared Gun Thermometer (B353)  1.0   2500.0   \n",
       "22012   Inno Chef INC447 Digital Kitchen Scale 15 kg/1g.  1.0   1118.0   \n",
       "9885       White Powder Color 100 g.  (Titanium Dioxide)  2.0    400.0   \n",
       "22033                 Squeezing Bottle 12 oz (PT1527-12)  2.0     38.0   \n",
       "16141  KitchenAid 5KPM5EER Stand Mixer 5 Qt ,4.8 L He...  3.0  13949.0   \n",
       "\n",
       "      CUSTOMER SR_CODE INV_TYPE  ... M12 INV_WEEK_DAY WD0  WD1  WD2  WD3  WD4  \\\n",
       "8893     A0005       1       CS  ...   0            6   0    0    0    0    0   \n",
       "22012    C0161       2       DS  ...   0            1   0    1    0    0    0   \n",
       "9885     C1317       1       CS  ...  12            0   0    0    0    0    0   \n",
       "22033    C0161       2       DS  ...   0            1   0    1    0    0    0   \n",
       "16141    C0161       2       DS  ...   0            4   0    0    0    0    4   \n",
       "\n",
       "       WD5  WD6  INV_MONTH_DAY  \n",
       "8893     0    6              8  \n",
       "22012    0    0              5  \n",
       "9885     0    0              9  \n",
       "22033    0    0              5  \n",
       "16141    0    0              2  \n",
       "\n",
       "[5 rows x 40 columns]"
      ]
     },
     "execution_count": 14,
     "metadata": {},
     "output_type": "execute_result"
    }
   ],
   "source": [
    "ds['INV_QUARTER'] = ds.INV_DATE.dt.quarter\n",
    "for i in list([1,2,3,4]):\n",
    "    ds[f'Q{i}'] = 0\n",
    "    ds.loc[ds.INV_QUARTER == i, f'Q{i}'] = i\n",
    "\n",
    "ds['INV_MONTH'] = ds.INV_DATE.dt.month\n",
    "for i in list([1,2,3,4,5,6,7,8,9,10,11,12]):\n",
    "    ds[f'M{i}'] = 0\n",
    "    ds.loc[ds.INV_MONTH == i, f'M{i}'] = i\n",
    "\n",
    "ds['INV_WEEK_DAY'] = ds.INV_DATE.dt.weekday # Monday=0 and Sunday=6\n",
    "for i in list([0,1,2,3,4,5,6]):\n",
    "    ds[f'WD{i}'] = 0\n",
    "    ds.loc[ds.INV_WEEK_DAY == i, f'WD{i}'] = i\n",
    "\n",
    "ds['INV_MONTH_DAY'] = ds.INV_DATE.dt.day\n",
    "ds.sample(5)"
   ]
  },
  {
   "cell_type": "markdown",
   "metadata": {},
   "source": [
    "## **`EXPLORATORY DATA`**"
   ]
  },
  {
   "cell_type": "code",
   "execution_count": 15,
   "metadata": {},
   "outputs": [
    {
     "name": "stdout",
     "output_type": "stream",
     "text": [
      "Total Customer : 4013\n",
      "Total Selling Days : 361\n",
      "Total Invoice No. : 9021\n",
      "Total Product Name : 4900\n",
      "Total Product Price : 77.38 M.Baht\n",
      "Total Product Qty : 201421.0\n",
      "Total Item Code : 6188\n",
      "Total Sell Type : 7\n"
     ]
    }
   ],
   "source": [
    "print(f'Total Customer : {ds.CUSTOMER.nunique()}')\n",
    "print(f'Total Selling Days : {ds.INV_DATE.nunique()}')\n",
    "print(f'Total Invoice No. : {ds.INV_NO.nunique()}')\n",
    "print(f'Total Product Name : {ds.ITEM_NAME.nunique()}')\n",
    "print(f'Total Product Price : {round(ds.PRICE.sum() / 1e6, 2)} M.Baht')\n",
    "print(f'Total Product Qty : {ds.QTY.sum()}')\n",
    "print(f'Total Item Code : {ds.ITEM_CODE.nunique()}')\n",
    "print(f'Total Sell Type : {ds.SELL_TYPE.nunique()}')"
   ]
  },
  {
   "cell_type": "code",
   "execution_count": 16,
   "metadata": {},
   "outputs": [
    {
     "data": {
      "text/plain": [
       "array(['PRODUCT', 'SERVICE', 'SPARE', 'GUARANTEE', 'RENTAL', 'LABOUR',\n",
       "       'ADVERTISING'], dtype=object)"
      ]
     },
     "execution_count": 16,
     "metadata": {},
     "output_type": "execute_result"
    }
   ],
   "source": [
    "ds.SELL_TYPE.unique()"
   ]
  },
  {
   "cell_type": "code",
   "execution_count": 17,
   "metadata": {},
   "outputs": [
    {
     "data": {
      "text/plain": [
       "SHOWROOM            3\n",
       "INV_DATE          361\n",
       "INV_NO           9021\n",
       "ITEM_CODE        6188\n",
       "ITEM_NAME        4900\n",
       "QTY               146\n",
       "PRICE            1730\n",
       "CUSTOMER         4013\n",
       "SR_CODE             3\n",
       "INV_TYPE            5\n",
       "SELL_TYPE           7\n",
       "ITEM_TYPE          75\n",
       "CUSTOMER_TYPE      15\n",
       "INV_QUARTER         4\n",
       "Q1                  2\n",
       "Q2                  2\n",
       "Q3                  2\n",
       "Q4                  2\n",
       "INV_MONTH          12\n",
       "M1                  2\n",
       "M2                  2\n",
       "M3                  2\n",
       "M4                  2\n",
       "M5                  2\n",
       "M6                  2\n",
       "M7                  2\n",
       "M8                  2\n",
       "M9                  2\n",
       "M10                 2\n",
       "M11                 2\n",
       "M12                 2\n",
       "INV_WEEK_DAY        7\n",
       "WD0                 1\n",
       "WD1                 2\n",
       "WD2                 2\n",
       "WD3                 2\n",
       "WD4                 2\n",
       "WD5                 2\n",
       "WD6                 2\n",
       "INV_MONTH_DAY      31\n",
       "dtype: int64"
      ]
     },
     "execution_count": 17,
     "metadata": {},
     "output_type": "execute_result"
    }
   ],
   "source": [
    "#print(f'Total Spare : {ds[ds.SELL_TYPE == \"SPARE\"].nunique()}')\n",
    "ds.T.apply(lambda x : x.nunique(), axis=1)"
   ]
  },
  {
   "cell_type": "code",
   "execution_count": 18,
   "metadata": {},
   "outputs": [
    {
     "data": {
      "text/plain": [
       "SELL_TYPE\n",
       "ADVERTISING         1.0\n",
       "GUARANTEE           1.0\n",
       "LABOUR              2.0\n",
       "PRODUCT        200003.0\n",
       "RENTAL              9.0\n",
       "SERVICE           233.0\n",
       "SPARE            1172.0\n",
       "Name: QTY, dtype: float64"
      ]
     },
     "execution_count": 18,
     "metadata": {},
     "output_type": "execute_result"
    }
   ],
   "source": [
    "ds.groupby(['SELL_TYPE'])['QTY'].sum()"
   ]
  },
  {
   "cell_type": "markdown",
   "metadata": {},
   "source": [
    "## **`Sell Type Amount`**"
   ]
  },
  {
   "cell_type": "code",
   "execution_count": 19,
   "metadata": {},
   "outputs": [
    {
     "data": {
      "text/plain": [
       "SELL_TYPE\n",
       "ADVERTISING     1871397.20\n",
       "GUARANTEE        360000.00\n",
       "LABOUR             2000.00\n",
       "PRODUCT        71141507.47\n",
       "RENTAL          1620000.00\n",
       "SERVICE          304808.80\n",
       "SPARE           2077993.50\n",
       "Name: PRICE, dtype: float64"
      ]
     },
     "execution_count": 19,
     "metadata": {},
     "output_type": "execute_result"
    }
   ],
   "source": [
    "ds.groupby(['SELL_TYPE'])['PRICE'].sum()"
   ]
  },
  {
   "cell_type": "code",
   "execution_count": 20,
   "metadata": {},
   "outputs": [
    {
     "data": {
      "text/html": [
       "<div>\n",
       "<style scoped>\n",
       "    .dataframe tbody tr th:only-of-type {\n",
       "        vertical-align: middle;\n",
       "    }\n",
       "\n",
       "    .dataframe tbody tr th {\n",
       "        vertical-align: top;\n",
       "    }\n",
       "\n",
       "    .dataframe thead th {\n",
       "        text-align: right;\n",
       "    }\n",
       "</style>\n",
       "<table border=\"1\" class=\"dataframe\">\n",
       "  <thead>\n",
       "    <tr style=\"text-align: right;\">\n",
       "      <th></th>\n",
       "      <th>ITEM_NAME</th>\n",
       "      <th>Count</th>\n",
       "    </tr>\n",
       "  </thead>\n",
       "  <tbody>\n",
       "    <tr>\n",
       "      <th>0</th>\n",
       "      <td>500 g.Dark Choc 58% COCOABARRY</td>\n",
       "      <td>385</td>\n",
       "    </tr>\n",
       "    <tr>\n",
       "      <th>1</th>\n",
       "      <td>Cacao Barry Dark Choc Fleur de Cao Pistol 70% ...</td>\n",
       "      <td>276</td>\n",
       "    </tr>\n",
       "    <tr>\n",
       "      <th>2</th>\n",
       "      <td>2 Kg.T55 แป้งเอนกประสงค์ Made in France M145</td>\n",
       "      <td>260</td>\n",
       "    </tr>\n",
       "    <tr>\n",
       "      <th>3</th>\n",
       "      <td>Almond Powder (USA) 1 kg.(M071)</td>\n",
       "      <td>247</td>\n",
       "    </tr>\n",
       "    <tr>\n",
       "      <th>4</th>\n",
       "      <td>Nielsen Massey Pure Vanilla Bean Paste 50 g.</td>\n",
       "      <td>203</td>\n",
       "    </tr>\n",
       "    <tr>\n",
       "      <th>5</th>\n",
       "      <td>Cacao Barry Dark Choc Mi-Amere Pistoles 58% 5 ...</td>\n",
       "      <td>200</td>\n",
       "    </tr>\n",
       "    <tr>\n",
       "      <th>6</th>\n",
       "      <td>Cocoa Butter 1 kg (M024)</td>\n",
       "      <td>200</td>\n",
       "    </tr>\n",
       "    <tr>\n",
       "      <th>7</th>\n",
       "      <td>Spare Part for Changing or Repairing of Machine</td>\n",
       "      <td>194</td>\n",
       "    </tr>\n",
       "    <tr>\n",
       "      <th>8</th>\n",
       "      <td>Callebaut Dark Chocolate Couverture Noir 70.4%...</td>\n",
       "      <td>182</td>\n",
       "    </tr>\n",
       "    <tr>\n",
       "      <th>9</th>\n",
       "      <td>Cacao Barry Dark Choc Pistal 64% 500 g. (M236)</td>\n",
       "      <td>172</td>\n",
       "    </tr>\n",
       "    <tr>\n",
       "      <th>10</th>\n",
       "      <td>Cacao Barry Cocoa Powders Plein Arome No.2 , 1 kg</td>\n",
       "      <td>164</td>\n",
       "    </tr>\n",
       "    <tr>\n",
       "      <th>11</th>\n",
       "      <td>EU Food Color 46P10047 Pump Powder Gold AF 10 g.</td>\n",
       "      <td>163</td>\n",
       "    </tr>\n",
       "    <tr>\n",
       "      <th>12</th>\n",
       "      <td>T45 แป้งขนมปัง 1 kg</td>\n",
       "      <td>162</td>\n",
       "    </tr>\n",
       "    <tr>\n",
       "      <th>13</th>\n",
       "      <td>Mosa N2O 8 g. Cream Charger 10 pcs/pack</td>\n",
       "      <td>158</td>\n",
       "    </tr>\n",
       "    <tr>\n",
       "      <th>14</th>\n",
       "      <td>Superfine Almond Powder (USA) 1 kg. (M071)</td>\n",
       "      <td>146</td>\n",
       "    </tr>\n",
       "    <tr>\n",
       "      <th>15</th>\n",
       "      <td>Elle&amp;Vire 82% All Purpose Unsalted Butter 2.5 kg.</td>\n",
       "      <td>146</td>\n",
       "    </tr>\n",
       "    <tr>\n",
       "      <th>16</th>\n",
       "      <td>Gelita Gelatine Sheets e 1000 g</td>\n",
       "      <td>133</td>\n",
       "    </tr>\n",
       "    <tr>\n",
       "      <th>17</th>\n",
       "      <td>Cacao Barry White Choc Zephyr 34% Pistoles 500 g.</td>\n",
       "      <td>130</td>\n",
       "    </tr>\n",
       "    <tr>\n",
       "      <th>18</th>\n",
       "      <td>Callebaut Dark Chocolate Couverture 57.7% , 2.5kg</td>\n",
       "      <td>128</td>\n",
       "    </tr>\n",
       "    <tr>\n",
       "      <th>19</th>\n",
       "      <td>KitchenAid 5KPM5EER Stand Mixer 5 Qt ,4.8 L He...</td>\n",
       "      <td>126</td>\n",
       "    </tr>\n",
       "  </tbody>\n",
       "</table>\n",
       "</div>"
      ],
      "text/plain": [
       "                                            ITEM_NAME  Count\n",
       "0                      500 g.Dark Choc 58% COCOABARRY    385\n",
       "1   Cacao Barry Dark Choc Fleur de Cao Pistol 70% ...    276\n",
       "2        2 Kg.T55 แป้งเอนกประสงค์ Made in France M145    260\n",
       "3                     Almond Powder (USA) 1 kg.(M071)    247\n",
       "4        Nielsen Massey Pure Vanilla Bean Paste 50 g.    203\n",
       "5   Cacao Barry Dark Choc Mi-Amere Pistoles 58% 5 ...    200\n",
       "6                            Cocoa Butter 1 kg (M024)    200\n",
       "7     Spare Part for Changing or Repairing of Machine    194\n",
       "8   Callebaut Dark Chocolate Couverture Noir 70.4%...    182\n",
       "9      Cacao Barry Dark Choc Pistal 64% 500 g. (M236)    172\n",
       "10  Cacao Barry Cocoa Powders Plein Arome No.2 , 1 kg    164\n",
       "11   EU Food Color 46P10047 Pump Powder Gold AF 10 g.    163\n",
       "12                                T45 แป้งขนมปัง 1 kg    162\n",
       "13            Mosa N2O 8 g. Cream Charger 10 pcs/pack    158\n",
       "14         Superfine Almond Powder (USA) 1 kg. (M071)    146\n",
       "15  Elle&Vire 82% All Purpose Unsalted Butter 2.5 kg.    146\n",
       "16                    Gelita Gelatine Sheets e 1000 g    133\n",
       "17  Cacao Barry White Choc Zephyr 34% Pistoles 500 g.    130\n",
       "18  Callebaut Dark Chocolate Couverture 57.7% , 2.5kg    128\n",
       "19  KitchenAid 5KPM5EER Stand Mixer 5 Qt ,4.8 L He...    126"
      ]
     },
     "execution_count": 20,
     "metadata": {},
     "output_type": "execute_result"
    }
   ],
   "source": [
    "ds_itemcount = pd.DataFrame(ds.ITEM_NAME.value_counts().reset_index())\n",
    "ds_itemcount.rename(columns={'index': 'ITEM_NAME', 'ITEM_NAME': 'Count'}, inplace=True)\n",
    "ds_itemcount.sort_values(by='Count', ascending=False)\n",
    "ds_itemcount.head(20)"
   ]
  },
  {
   "cell_type": "code",
   "execution_count": 21,
   "metadata": {},
   "outputs": [
    {
     "data": {
      "text/html": [
       "<div>\n",
       "<style scoped>\n",
       "    .dataframe tbody tr th:only-of-type {\n",
       "        vertical-align: middle;\n",
       "    }\n",
       "\n",
       "    .dataframe tbody tr th {\n",
       "        vertical-align: top;\n",
       "    }\n",
       "\n",
       "    .dataframe thead th {\n",
       "        text-align: right;\n",
       "    }\n",
       "</style>\n",
       "<table border=\"1\" class=\"dataframe\">\n",
       "  <thead>\n",
       "    <tr style=\"text-align: right;\">\n",
       "      <th></th>\n",
       "      <th>CUSTOMER</th>\n",
       "      <th>Count</th>\n",
       "    </tr>\n",
       "  </thead>\n",
       "  <tbody>\n",
       "    <tr>\n",
       "      <th>0</th>\n",
       "      <td>C0161</td>\n",
       "      <td>14794</td>\n",
       "    </tr>\n",
       "    <tr>\n",
       "      <th>1</th>\n",
       "      <td>D0034</td>\n",
       "      <td>414</td>\n",
       "    </tr>\n",
       "    <tr>\n",
       "      <th>2</th>\n",
       "      <td>A0448</td>\n",
       "      <td>322</td>\n",
       "    </tr>\n",
       "    <tr>\n",
       "      <th>3</th>\n",
       "      <td>C0567</td>\n",
       "      <td>208</td>\n",
       "    </tr>\n",
       "    <tr>\n",
       "      <th>4</th>\n",
       "      <td>P10200</td>\n",
       "      <td>203</td>\n",
       "    </tr>\n",
       "    <tr>\n",
       "      <th>5</th>\n",
       "      <td>R0417</td>\n",
       "      <td>185</td>\n",
       "    </tr>\n",
       "    <tr>\n",
       "      <th>6</th>\n",
       "      <td>R0200</td>\n",
       "      <td>176</td>\n",
       "    </tr>\n",
       "    <tr>\n",
       "      <th>7</th>\n",
       "      <td>R0237</td>\n",
       "      <td>136</td>\n",
       "    </tr>\n",
       "    <tr>\n",
       "      <th>8</th>\n",
       "      <td>P6213</td>\n",
       "      <td>133</td>\n",
       "    </tr>\n",
       "    <tr>\n",
       "      <th>9</th>\n",
       "      <td>C1903</td>\n",
       "      <td>132</td>\n",
       "    </tr>\n",
       "    <tr>\n",
       "      <th>10</th>\n",
       "      <td>D0038</td>\n",
       "      <td>100</td>\n",
       "    </tr>\n",
       "    <tr>\n",
       "      <th>11</th>\n",
       "      <td>C2568</td>\n",
       "      <td>100</td>\n",
       "    </tr>\n",
       "    <tr>\n",
       "      <th>12</th>\n",
       "      <td>C1163</td>\n",
       "      <td>100</td>\n",
       "    </tr>\n",
       "    <tr>\n",
       "      <th>13</th>\n",
       "      <td>R0428</td>\n",
       "      <td>100</td>\n",
       "    </tr>\n",
       "    <tr>\n",
       "      <th>14</th>\n",
       "      <td>C1295</td>\n",
       "      <td>93</td>\n",
       "    </tr>\n",
       "    <tr>\n",
       "      <th>15</th>\n",
       "      <td>D0002</td>\n",
       "      <td>91</td>\n",
       "    </tr>\n",
       "    <tr>\n",
       "      <th>16</th>\n",
       "      <td>C2567</td>\n",
       "      <td>87</td>\n",
       "    </tr>\n",
       "    <tr>\n",
       "      <th>17</th>\n",
       "      <td>P1446</td>\n",
       "      <td>84</td>\n",
       "    </tr>\n",
       "    <tr>\n",
       "      <th>18</th>\n",
       "      <td>WL01191</td>\n",
       "      <td>79</td>\n",
       "    </tr>\n",
       "    <tr>\n",
       "      <th>19</th>\n",
       "      <td>A0356</td>\n",
       "      <td>76</td>\n",
       "    </tr>\n",
       "  </tbody>\n",
       "</table>\n",
       "</div>"
      ],
      "text/plain": [
       "   CUSTOMER  Count\n",
       "0     C0161  14794\n",
       "1     D0034    414\n",
       "2     A0448    322\n",
       "3     C0567    208\n",
       "4    P10200    203\n",
       "5     R0417    185\n",
       "6     R0200    176\n",
       "7     R0237    136\n",
       "8     P6213    133\n",
       "9     C1903    132\n",
       "10    D0038    100\n",
       "11    C2568    100\n",
       "12    C1163    100\n",
       "13    R0428    100\n",
       "14    C1295     93\n",
       "15    D0002     91\n",
       "16    C2567     87\n",
       "17    P1446     84\n",
       "18  WL01191     79\n",
       "19    A0356     76"
      ]
     },
     "execution_count": 21,
     "metadata": {},
     "output_type": "execute_result"
    }
   ],
   "source": [
    "ds_itemcount = pd.DataFrame(ds.CUSTOMER.value_counts().reset_index())\n",
    "ds_itemcount.rename(columns={'index': 'CUSTOMER', 'CUSTOMER': 'Count'}, inplace=True)\n",
    "ds_itemcount.sort_values(by='Count', ascending=False)\n",
    "ds_itemcount.head(20)"
   ]
  },
  {
   "cell_type": "markdown",
   "metadata": {},
   "source": [
    "## **`Save to Final File`**"
   ]
  },
  {
   "cell_type": "code",
   "execution_count": 22,
   "metadata": {},
   "outputs": [],
   "source": [
    "ds.to_csv(f'{output_path}final_allsr_2019.csv', index=False)"
   ]
  }
 ],
 "metadata": {
  "kernelspec": {
   "display_name": "Python 3",
   "language": "python",
   "name": "python3"
  },
  "language_info": {
   "codemirror_mode": {
    "name": "ipython",
    "version": 3
   },
   "file_extension": ".py",
   "mimetype": "text/x-python",
   "name": "python",
   "nbconvert_exporter": "python",
   "pygments_lexer": "ipython3",
   "version": "3.7.3"
  },
  "widgets": {
   "application/vnd.jupyter.widget-state+json": {
    "state": {},
    "version_major": 2,
    "version_minor": 0
   }
  }
 },
 "nbformat": 4,
 "nbformat_minor": 4
}
